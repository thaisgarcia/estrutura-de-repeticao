{
  "nbformat": 4,
  "nbformat_minor": 0,
  "metadata": {
    "colab": {
      "provenance": [],
      "authorship_tag": "ABX9TyMJeYs6O0IFyJoBPDsvjxAY",
      "include_colab_link": true
    },
    "kernelspec": {
      "name": "python3",
      "display_name": "Python 3"
    },
    "language_info": {
      "name": "python"
    }
  },
  "cells": [
    {
      "cell_type": "markdown",
      "metadata": {
        "id": "view-in-github",
        "colab_type": "text"
      },
      "source": [
        "<a href=\"https://colab.research.google.com/github/thaisgarcia/estrutura-de-repeticao/blob/main/estrutura_de_repeti%C3%A7%C3%A3o.ipynb\" target=\"_parent\"><img src=\"https://colab.research.google.com/assets/colab-badge.svg\" alt=\"Open In Colab\"/></a>"
      ]
    },
    {
      "cell_type": "code",
      "execution_count": null,
      "metadata": {
        "colab": {
          "base_uri": "https://localhost:8080/"
        },
        "id": "9BCNdyr7bJox",
        "outputId": "3dc578dd-3d0b-4b5a-c493-46856120f07a"
      },
      "outputs": [
        {
          "output_type": "stream",
          "name": "stdout",
          "text": [
            "Digite um número inteiro positivo maior que 1: 0\n",
            "Não é um número inteiro positivo maior que 1! Digite novamente: 1\n",
            "Não é um número inteiro positivo maior que 1! Digite novamente: 6\n",
            "1\n",
            "2\n",
            "3\n"
          ]
        }
      ],
      "source": [
        "n = int(input(\"Digite um número inteiro positivo maior que 1: \"))\n",
        "divisor = 1\n",
        "\n",
        "while (n <= 1):\n",
        "    n = int(input(\"Não é um número inteiro positivo maior que 1! Digite novamente: \"))\n",
        "\n",
        "for divisor in range(divisor, n):\n",
        "    if n % divisor == 0:\n",
        "        print(divisor)"
      ]
    },
    {
      "cell_type": "code",
      "source": [
        "n = int(input(\"Digite um número inteiro positivo maior que 1: \"))\n",
        "divisor = 1\n",
        "quant = 0\n",
        "\n",
        "while (n <= 1):\n",
        "    n = int(input(\"Não é um número inteiro positivo maior que 1! Digite novamente: \"))\n",
        "\n",
        "for divisor in range(divisor, n):\n",
        "    if n % divisor == 0:\n",
        "        quant += 1\n",
        "\n",
        "print(\"O número\", n, \"tem\", quant, \"divisores.\")"
      ],
      "metadata": {
        "colab": {
          "base_uri": "https://localhost:8080/"
        },
        "id": "tWsZ5gH1vR2-",
        "outputId": "d6558224-f129-41ed-8b5e-bb40bac6a500"
      },
      "execution_count": null,
      "outputs": [
        {
          "output_type": "stream",
          "name": "stdout",
          "text": [
            "Digite um número inteiro positivo maior que 1: 0\n",
            "Não é um número inteiro positivo maior que 1! Digite novamente: 1\n",
            "Não é um número inteiro positivo maior que 1! Digite novamente: 6\n",
            "O número 6 tem 3 divisores.\n"
          ]
        }
      ]
    },
    {
      "cell_type": "code",
      "source": [
        "n = int(input(\"Digite um número inteiro positivo maior que 1: \"))\n",
        "\n",
        "while (n <= 1):\n",
        "    n = int(input(\"Não é um número inteiro positivo maior que 1! Digite novamente: \"))\n",
        "    if (n > 1):\n",
        "        break\n",
        "\n",
        "if (n == 2) or (n == 3):\n",
        "    print(\"O número\", n, \"é primo.\")\n",
        "elif (n != 2) and (n % 2 == 0):\n",
        "    print(\"O número\", n, \"não é primo.\")\n",
        "elif (n != 3) and (n % 3 == 0):\n",
        "    print(\"O número\", n, \"não é primo.\")\n",
        "elif (n != 5) and (n % 5 == 0):\n",
        "    print(\"O número\", n, \"não é primo.\")\n",
        "else:\n",
        "    for i in range(2, int(n**0.5) + 1):\n",
        "        if (n % i == 0):\n",
        "            print(\"O número\", n, \"não é primo.\")\n",
        "            break\n",
        "        else:\n",
        "            print(\"O número\", n, \"é primo.\")\n",
        "            break"
      ],
      "metadata": {
        "colab": {
          "base_uri": "https://localhost:8080/"
        },
        "id": "mRauY-XivdRE",
        "outputId": "fa3509cf-7b02-4621-c6ea-033ab1890d8e"
      },
      "execution_count": null,
      "outputs": [
        {
          "output_type": "stream",
          "name": "stdout",
          "text": [
            "Digite um número inteiro positivo maior que 1: 0\n",
            "Não é um número inteiro positivo maior que 1! Digite novamente: 1\n",
            "Não é um número inteiro positivo maior que 1! Digite novamente: 15\n",
            "O número 15 não é primo.\n"
          ]
        }
      ]
    },
    {
      "cell_type": "code",
      "source": [
        "def fatoracao_primos(numero):\n",
        "    fatores_primos = []\n",
        "    divisor = 2\n",
        "\n",
        "    while numero > 1:\n",
        "        while numero % divisor == 0:\n",
        "            fatores_primos.append(divisor)\n",
        "            numero /= divisor\n",
        "        divisor += 1\n",
        "\n",
        "    return fatores_primos\n",
        "\n",
        "numero = int(input(\"Digite um número inteiro positivo maior que 1: \"))\n",
        "\n",
        "if numero <= 1:\n",
        "    print(\"Por favor, digite um número inteiro positivo maior que 1.\")\n",
        "else:\n",
        "    resultado = fatoracao_primos(numero)\n",
        "    print(f\"A fatoração do número {numero} em números primos é: {resultado}\")"
      ],
      "metadata": {
        "colab": {
          "base_uri": "https://localhost:8080/"
        },
        "id": "Co4Kbo-J6cN3",
        "outputId": "80585c97-4553-459e-e1ad-e6a2effa4a8e"
      },
      "execution_count": null,
      "outputs": [
        {
          "output_type": "stream",
          "name": "stdout",
          "text": [
            "Digite um número inteiro positivo maior que 1: 25\n",
            "A fatoração do número 25 em números primos é: [5, 5]\n"
          ]
        }
      ]
    },
    {
      "cell_type": "code",
      "source": [
        "def fatores_primos(numero):\n",
        "    fatores_primos = set()\n",
        "    divisor = 2\n",
        "\n",
        "    while numero > 1:\n",
        "        while numero % divisor == 0:\n",
        "            fatores_primos.add(divisor)\n",
        "            numero //= divisor\n",
        "        divisor += 1\n",
        "\n",
        "    return fatores_primos\n",
        "\n",
        "numero = int(input(\"Digite um número inteiro positivo maior que 1: \"))\n",
        "\n",
        "if numero <= 1:\n",
        "    print(\"Por favor, digite um número inteiro positivo maior que 1.\")\n",
        "else:\n",
        "    resultado = fatores_primos(numero)\n",
        "    print(f\"Os fatores primos do número {numero} são: {resultado}\")"
      ],
      "metadata": {
        "colab": {
          "base_uri": "https://localhost:8080/"
        },
        "id": "CP2NPgqJ6rFj",
        "outputId": "cb482ebc-71c0-4efa-8ac6-3969c80b5828"
      },
      "execution_count": null,
      "outputs": [
        {
          "output_type": "stream",
          "name": "stdout",
          "text": [
            "Digite um número inteiro positivo maior que 1: 25\n",
            "Os fatores primos do número 25 são: {5}\n"
          ]
        }
      ]
    },
    {
      "cell_type": "code",
      "source": [
        "n = int(input(\"Digite um número inteiro: \"))\n",
        "\n",
        "while (n < 1):\n",
        "    n = int(input(\"Não é um número inteiro maior ou igual a 1! Digite novamente: \"))\n",
        "\n",
        "for i in range(n):\n",
        "    i += 1\n",
        "    print(i)"
      ],
      "metadata": {
        "colab": {
          "base_uri": "https://localhost:8080/"
        },
        "id": "W21EJbFr7NiO",
        "outputId": "2b3cb26f-b032-42bd-c023-0c09dd9f826f"
      },
      "execution_count": null,
      "outputs": [
        {
          "output_type": "stream",
          "name": "stdout",
          "text": [
            "Digite um número inteiro: 10\n",
            "1\n",
            "2\n",
            "3\n",
            "4\n",
            "5\n",
            "6\n",
            "7\n",
            "8\n",
            "9\n",
            "10\n"
          ]
        }
      ]
    },
    {
      "cell_type": "code",
      "source": [
        "n = int(input(\"Digite um número inteiro maior ou igual a 1: \"))\n",
        "\n",
        "while (n < 1):\n",
        "    n = int(input(\"Não é um número inteiro maior ou igual a 1! Digite novamente: \"))\n",
        "\n",
        "for j in range(n):\n",
        "    for i in range(j+1):\n",
        "        print(i+1, end=' ')\n",
        "    print()"
      ],
      "metadata": {
        "colab": {
          "base_uri": "https://localhost:8080/"
        },
        "id": "JWq0skRq7TgX",
        "outputId": "52b80cef-84d2-4e1a-a2b9-039de8f7fa3c"
      },
      "execution_count": null,
      "outputs": [
        {
          "output_type": "stream",
          "name": "stdout",
          "text": [
            "Digite um número inteiro maior ou igual a 1: 10\n",
            "1 \n",
            "1 2 \n",
            "1 2 3 \n",
            "1 2 3 4 \n",
            "1 2 3 4 5 \n",
            "1 2 3 4 5 6 \n",
            "1 2 3 4 5 6 7 \n",
            "1 2 3 4 5 6 7 8 \n",
            "1 2 3 4 5 6 7 8 9 \n",
            "1 2 3 4 5 6 7 8 9 10 \n"
          ]
        }
      ]
    },
    {
      "cell_type": "code",
      "source": [
        "n = int(input(\"Digite um número inteiro: \"))\n",
        "i = 1\n",
        "quadrado_num = 0\n",
        "\n",
        "while (n < 1):\n",
        "    n = int(input(\"Não é um número inteiro maior ou igual a 1! Digite novamente: \"))\n",
        "\n",
        "while i <= n:\n",
        "    j = (2 * i) - 1\n",
        "    if (i < n):\n",
        "      print(j, end=\" + \")\n",
        "    else:\n",
        "      print(j)\n",
        "    i += 1\n",
        "    quadrado_num += j\n",
        "\n",
        "print(f\"O quadrado do número digitado é: {quadrado_num}\")"
      ],
      "metadata": {
        "colab": {
          "base_uri": "https://localhost:8080/"
        },
        "id": "HbzhItBh7Wk6",
        "outputId": "9bd655f2-ce91-4fed-d4e3-5586bc991958"
      },
      "execution_count": null,
      "outputs": [
        {
          "output_type": "stream",
          "name": "stdout",
          "text": [
            "Digite um número inteiro: 5\n",
            "1 + 3 + 5 + 7 + 9\n",
            "O quadrado do número digitado é: 25\n"
          ]
        }
      ]
    }
  ]
}